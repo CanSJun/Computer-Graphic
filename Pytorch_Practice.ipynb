{
  "cells": [
    {
      "cell_type": "markdown",
      "metadata": {
        "id": "vqyiMCvmbcSY"
      },
      "source": [
        "# **충남대학교 - 컴퓨터 그래픽스** \n",
        "\n",
        "학번 : 202004183\n",
        "\n",
        "이름 : 박시준\n",
        "\n",
        "## 과제 안내 사항 \n",
        "딥러닝 과제는 따로 보고서를 받지 않을 예정입니다. \n",
        "\n",
        "대신 과제 구현 시 주석을 꼭 달아서 충분히 구현한 내용에 대한 설명을 해주시면 되겠습니다.\n",
        "\n",
        "과제 제출 기한\n",
        "11월 28일 월요일 23시 59분\n",
        "제출 파일 : .ipynb 파일 \n"
      ]
    },
    {
      "cell_type": "markdown",
      "metadata": {
        "id": "v_T89t47VTSf"
      },
      "source": [
        "##**Pytorch 기초 실습**\n",
        "\n",
        "<img src = \"https://drive.google.com/uc?id=1lZ6La7NmnOhCzSGqgMonYgvsTT_lzM2P\" height = 200 width = 500> "
      ]
    },
    {
      "cell_type": "code",
      "source": [],
      "metadata": {
        "id": "OCsGzQ9E_aV0"
      },
      "execution_count": null,
      "outputs": []
    },
    {
      "cell_type": "markdown",
      "metadata": {
        "id": "fGQDtU0BVW5B"
      },
      "source": [
        "##**Pytorch란?**\n",
        "* **파이토치(PyTorch)**는 컴퓨터 비전 및 자연어 처리와 같은 응용 프로그램에 사용되는 토치(Torch) 라이브러리를 기반으로 하는 기계 학습 프레임워크이다. 현 Meta AI가 개발(구 Facebook)하였다.\n",
        "* **Tesla Autopilot**, **Uber의 Pyro**, **Hugging Face의 Transformers**, **PyTorch Lightning**, 및 **Catalyst**를 포함한 많은 딥 러닝 소프트웨어가 PyTorch 위에 구축되어 있습니다.\n",
        "\n",
        "<img src = \"https://drive.google.com/uc?id=1TIOBfghGmeyXIcF_FIHipmVZKYGOIPse\" height = 200 width = 190>\n",
        "<img src = \"https://drive.google.com/uc?id=1FKBzFcQ6cGas7e_oh5G7gWzlA9j64Egh\" height = 200 width = 190> \n",
        "<img src = \"https://drive.google.com/uc?id=1iw6u8v-7kqqqcg_O-ieAwnv5ZocgNRkD\" height = 200 width = 220> \n",
        "<img src = \"https://drive.google.com/uc?id=1IAR-v86prmPIElUP8pU73svNrx9WcCxN\" height = 200 width = 200> \n",
        "<img src = \"https://drive.google.com/uc?id=1bZce4mRyzXWM4d-sDd1vS5WC_J0gDQda\" height = 200 width = 200> \n",
        "\n",
        "\n",
        " \n",
        ">참고  \n",
        "실행 전에 **[런타임]** → **[런타임 유형 변경]** → 유형을 **GPU**로 설정해서 GPU를 사용할 수 있게 합니다.  \n",
        "본 실습은 Pytorch 공식 튜토리얼 https://pytorch.org/tutorials 과 cs231n http://cs231n.stanford.edu/ 자료를 참고하였습니다.\n"
      ]
    },
    {
      "cell_type": "markdown",
      "metadata": {
        "id": "0IPKy-d-VXNN"
      },
      "source": [
        "##**Pytorch 기초 실습 구성**\n",
        "* Tensor 정의\n",
        "* Tensor Shape 변경 \n",
        "* Tensor 연산\n",
        "* 데이터 불러오기 (CIFAR-10 dataset)\n",
        "* Pytorch Module API를 이용한 Neural Network 정의 및 사용법\n",
        "* 간단한 선형 분류기(Linear Classifier) 구현\n",
        "* 과제 - Convolution을 이용한 이미지 분류기 구현 "
      ]
    },
    {
      "cell_type": "markdown",
      "metadata": {
        "id": "8xrZF4dJbdV2"
      },
      "source": [
        "## **1 Tensor 정의**\n"
      ]
    },
    {
      "cell_type": "markdown",
      "metadata": {
        "id": "9nAwgxavT7RH"
      },
      "source": [
        "### **1.1 Tensor란?**\n",
        "* Tensor는 배열 및 행렬과 매우 유사한 특수 데이터 구조입니다. PyTorch에서는 텐서를 사용하여 모델의 입력과 출력뿐만 아니라 모델의 매개 변수를 인코딩합니다.\n",
        "\n",
        "* Tensor는 **GPU**나 다른 하드웨어 가속기에서 실행할 수 있다는 점을 제외하면 NumPy의 배열과 유사하다. \n",
        "* Tensor는 아래 그림과 같이 기본적으로 3차원이상을 지칭한다. \n",
        "<img src = \"https://drive.google.com/uc?id=1vVKL1YLPd78HQE_oNOED0S4CxRj7HL5i\" height = 500 width = 700>"
      ]
    },
    {
      "cell_type": "markdown",
      "metadata": {
        "id": "t5Ko-ZaAS0wZ"
      },
      "source": [
        "### **1.2 Tensor 초기화하기**\n",
        "* Tensor는 다양한 방식으로 초기화할수 있다. 다음은 여러 가지 방식들 중 한가지 예이다."
      ]
    },
    {
      "cell_type": "code",
      "execution_count": 1,
      "metadata": {
        "colab": {
          "base_uri": "https://localhost:8080/"
        },
        "id": "X5NlMYwPRlPQ",
        "outputId": "cbf9814b-4261-42a5-c843-e28ee71236cb"
      },
      "outputs": [
        {
          "output_type": "stream",
          "name": "stdout",
          "text": [
            "tensor([[1, 2],\n",
            "        [3, 4]])\n"
          ]
        }
      ],
      "source": [
        "import torch\n",
        "import numpy as np\n",
        "\n",
        "data = [[1, 2],[3, 4]]\n",
        "x_data = torch.tensor(data)\n",
        "print(x_data)"
      ]
    },
    {
      "cell_type": "markdown",
      "metadata": {
        "id": "csGtMWKCUJ9T"
      },
      "source": [
        "* Tensor는 Numpy와 자유롭게 상호 변환이 가능합니다."
      ]
    },
    {
      "cell_type": "code",
      "execution_count": 2,
      "metadata": {
        "colab": {
          "base_uri": "https://localhost:8080/"
        },
        "id": "pF8_0RDgUQmf",
        "outputId": "be187746-a0ae-4afb-d370-54043e2b35d5"
      },
      "outputs": [
        {
          "output_type": "stream",
          "name": "stdout",
          "text": [
            "<class 'numpy.ndarray'>\n",
            "<class 'torch.Tensor'>\n"
          ]
        }
      ],
      "source": [
        "np_array = np.array(x_data) # tensor -> numpy 변환 \n",
        "print(type(np_array))\n",
        "x_np = torch.from_numpy(np_array) # numpy -> tensor 변환 \n",
        "print(type(x_np))"
      ]
    },
    {
      "cell_type": "markdown",
      "metadata": {
        "id": "4iTwQ3CqYiOi"
      },
      "source": [
        "* 이미 만들어진 Tensor로부터 속성 값(크기, 데이터 타입)을 유지한 새로운 Tensor를 생성 할 수 있다."
      ]
    },
    {
      "cell_type": "code",
      "execution_count": 3,
      "metadata": {
        "colab": {
          "base_uri": "https://localhost:8080/"
        },
        "id": "0VQcG-nnWL_T",
        "outputId": "2da0ea76-9432-4277-b49d-b9769323acd3"
      },
      "outputs": [
        {
          "output_type": "stream",
          "name": "stdout",
          "text": [
            "1로 채워진 Tensor: \n",
            " tensor([[1, 1],\n",
            "        [1, 1]]) \n",
            "\n",
            "랜덤 Tensor: \n",
            " tensor([[0.0716, 0.8570],\n",
            "        [0.5049, 0.9462]]) \n",
            "\n"
          ]
        }
      ],
      "source": [
        "x_ones = torch.ones_like(x_data) # x_data의 크기 및 데이터 타입을 똑같이 가져오고 모두 1인 값으로 채움 \n",
        "print(f\"1로 채워진 Tensor: \\n {x_ones} \\n\")\n",
        "\n",
        "x_rand = torch.rand_like(x_data, dtype=torch.float) # x_data의 크기 및 데이터 타입을 똑같이 가져오고 랜덤 값을 채움\n",
        "print(f\"랜덤 Tensor: \\n {x_rand} \\n\")"
      ]
    },
    {
      "cell_type": "markdown",
      "metadata": {
        "id": "4oZ_-pC-ZNGY"
      },
      "source": [
        "### **1.3 Tensor 속성(Attributes)**"
      ]
    },
    {
      "cell_type": "code",
      "execution_count": 4,
      "metadata": {
        "colab": {
          "base_uri": "https://localhost:8080/"
        },
        "id": "2uD4ExuNZImn",
        "outputId": "5f9cb168-3a8f-4492-ec3b-6c2f6d7ab17f"
      },
      "outputs": [
        {
          "output_type": "stream",
          "name": "stdout",
          "text": [
            "tensor의 크기 : torch.Size([3, 4])\n",
            "tensor의 데이터 타입: torch.float32\n",
            "tensor가 저장된 장치 정보 : cpu\n"
          ]
        }
      ],
      "source": [
        "tensor = torch.rand(3,4)\n",
        "\n",
        "print(f\"tensor의 크기 : {tensor.shape}\")\n",
        "print(f\"tensor의 데이터 타입: {tensor.dtype}\")\n",
        "print(f\"tensor가 저장된 장치 정보 : {tensor.device}\")"
      ]
    },
    {
      "cell_type": "markdown",
      "metadata": {
        "id": "oT7oaQUiZwgM"
      },
      "source": [
        "## **2 Tensor Shape 변경**"
      ]
    },
    {
      "cell_type": "markdown",
      "metadata": {
        "id": "ZUoXc8rHZ70l"
      },
      "source": [
        "### **2.1 reshape**\n",
        "* numpy의 reshape와 동일하다. tensor의 차원을 변경"
      ]
    },
    {
      "cell_type": "code",
      "execution_count": 5,
      "metadata": {
        "colab": {
          "base_uri": "https://localhost:8080/"
        },
        "id": "USDHuK7ZaNP8",
        "outputId": "99939dc6-0519-418c-ba18-39a90da45988"
      },
      "outputs": [
        {
          "output_type": "stream",
          "name": "stdout",
          "text": [
            "tensor a : tensor([[ 1,  2,  3],\n",
            "        [ 4,  5,  6],\n",
            "        [ 7,  8,  9],\n",
            "        [10, 11, 12]])\n",
            "tensor a size: torch.Size([4, 3])\n",
            "new_a : tensor([[[ 1,  2],\n",
            "         [ 3,  4]],\n",
            "\n",
            "        [[ 5,  6],\n",
            "         [ 7,  8]],\n",
            "\n",
            "        [[ 9, 10],\n",
            "         [11, 12]]])\n",
            "new_a size : torch.Size([3, 2, 2])\n"
          ]
        }
      ],
      "source": [
        "a = torch.tensor([[1,2,3],\n",
        "                  [4,5,6],\n",
        "                  [7,8,9],\n",
        "                  [10,11,12]]) # 4 x 3 2차원 tensor\n",
        "print(\"tensor a : {}\".format(a))\n",
        "print(\"tensor a size: {}\".format(a.shape))\n",
        "\n",
        "\n",
        "\n",
        "new_a = a.reshape((3,2,2)) # 3 x 2 x 2 tensor\n",
        "print(\"new_a : {}\".format(new_a))\n",
        "print(\"new_a size : {}\".format(new_a.shape))"
      ]
    },
    {
      "cell_type": "markdown",
      "metadata": {
        "id": "pRHXTdCkaAje"
      },
      "source": [
        "### **2.2 view**\n",
        "* reshape 연산과 마찬가지로 같은 데이터 타입과 같은 원소의 개수를 가지지만 크기가 다른 새로운 tensor를 반환한다."
      ]
    },
    {
      "cell_type": "code",
      "execution_count": 6,
      "metadata": {
        "colab": {
          "base_uri": "https://localhost:8080/"
        },
        "id": "wnZAIl9AZmT1",
        "outputId": "6b3027b1-9a65-4ef7-ce70-f75b6f9198a8"
      },
      "outputs": [
        {
          "output_type": "stream",
          "name": "stdout",
          "text": [
            "tensor a : tensor([[ 1,  2,  3],\n",
            "        [ 4,  5,  6],\n",
            "        [ 7,  8,  9],\n",
            "        [10, 11, 12]])\n",
            "tensor a size: torch.Size([4, 3])\n",
            "new_a : tensor([[[ 1,  2],\n",
            "         [ 3,  4]],\n",
            "\n",
            "        [[ 5,  6],\n",
            "         [ 7,  8]],\n",
            "\n",
            "        [[ 9, 10],\n",
            "         [11, 12]]])\n",
            "new_a size : torch.Size([3, 2, 2])\n"
          ]
        }
      ],
      "source": [
        "a = torch.tensor([[1,2,3],\n",
        "                  [4,5,6],\n",
        "                  [7,8,9],\n",
        "                  [10,11,12]]) # 4 x 3 2차원 tensor\n",
        "print(\"tensor a : {}\".format(a))\n",
        "print(\"tensor a size: {}\".format(a.shape))\n",
        "\n",
        "\n",
        "\n",
        "new_a = a.view(-1,2,2) # -1은 크기 추론 그래서 3이나옴. 2,2로 나눠주고\n",
        "print(\"new_a : {}\".format(new_a))\n",
        "print(\"new_a size : {}\".format(new_a.shape))"
      ]
    },
    {
      "cell_type": "markdown",
      "metadata": {
        "id": "MQmLjthHkF0C"
      },
      "source": [
        "## **3 Tensor 주요 연산**\n"
      ]
    },
    {
      "cell_type": "markdown",
      "metadata": {
        "id": "h2SEOVbmNrDt"
      },
      "source": [
        "### 3.1 행렬 곱과 요소 곱"
      ]
    },
    {
      "cell_type": "code",
      "execution_count": 7,
      "metadata": {
        "colab": {
          "base_uri": "https://localhost:8080/"
        },
        "id": "vvCLiqy7kJEP",
        "outputId": "c5d1733e-a265-4a2a-848b-0fe8ec467aac"
      },
      "outputs": [
        {
          "output_type": "stream",
          "name": "stdout",
          "text": [
            "tensor([[ 14,  32,  50,  68],\n",
            "        [ 32,  77, 122, 167],\n",
            "        [ 50, 122, 194, 266],\n",
            "        [ 68, 167, 266, 365]])\n",
            "tensor([[ 14,  32,  50,  68],\n",
            "        [ 32,  77, 122, 167],\n",
            "        [ 50, 122, 194, 266],\n",
            "        [ 68, 167, 266, 365]])\n",
            "tensor([[  1,   4,   9],\n",
            "        [ 16,  25,  36],\n",
            "        [ 49,  64,  81],\n",
            "        [100, 121, 144]])\n",
            "tensor([[  1,   4,   9],\n",
            "        [ 16,  25,  36],\n",
            "        [ 49,  64,  81],\n",
            "        [100, 121, 144]])\n"
          ]
        }
      ],
      "source": [
        "tensor = torch.tensor([[1,2,3],\n",
        "                  [4,5,6],\n",
        "                  [7,8,9],\n",
        "                  [10,11,12]]) # 4 x 3 2차원 tensor\n",
        "\n",
        "# 행렬 곱(matrix multiplication) 연산의 다양한 표현 \n",
        "y1 = tensor @ tensor.T\n",
        "print(y1)\n",
        "y2 = tensor.matmul(tensor.T)\n",
        "print(y2)\n",
        "\n",
        "# 요소별 곱(element-wise multiplication)\n",
        "z1 = tensor * tensor\n",
        "print(z1)\n",
        "z2 = tensor.mul(tensor)\n",
        "print(z2)"
      ]
    },
    {
      "cell_type": "markdown",
      "metadata": {
        "id": "Hr1FTFS-NzYO"
      },
      "source": [
        "### 3.2 최대 최소 "
      ]
    },
    {
      "cell_type": "code",
      "execution_count": 8,
      "metadata": {
        "colab": {
          "base_uri": "https://localhost:8080/"
        },
        "id": "cz3kvRh5N5zs",
        "outputId": "aa2f138c-d8b5-498b-af09-8192b0c9456d"
      },
      "outputs": [
        {
          "output_type": "stream",
          "name": "stdout",
          "text": [
            "tensor([[ 1,  2,  3],\n",
            "        [ 4,  5,  6],\n",
            "        [ 7,  8,  9],\n",
            "        [10, 11, 12]])\n",
            "max : 12\n",
            "min : 1\n",
            "행 방향 최댓값 : tensor([ 3,  6,  9, 12])\n",
            "행 방향 최댓값 index : tensor([2, 2, 2, 2])\n",
            "열 방향 최댓값 : tensor([10, 11, 12])\n",
            "열 방향 최댓값 index : tensor([3, 3, 3])\n"
          ]
        }
      ],
      "source": [
        "tensor = torch.tensor([[1,2,3],\n",
        "                  [4,5,6],\n",
        "                  [7,8,9],\n",
        "                  [10,11,12]]) # 4 x 3 2차원 tensor\n",
        "\n",
        "print(tensor)\n",
        "# 전체 최댓값\n",
        "max_value = tensor.max()\n",
        "print(\"max : {}\".format(max_value))\n",
        "# 전체 최솟값\n",
        "min_value = tensor.min()\n",
        "print(\"min : {}\".format(min_value))\n",
        "\n",
        "# 최댓값 index, 축 방향에 따라\n",
        "# dim : 감소시킬 차원\n",
        "# dim == 0 : 행(row)을 감소시킴 -> 열 별로 \n",
        "# dim == 1 : 열(column)을 감소시킴 -> 행 별로 \n",
        "values, indices = torch.max(tensor,dim=1)\n",
        "print(\"행 방향 최댓값 : {}\".format(values))\n",
        "print(\"행 방향 최댓값 index : {}\".format(indices))\n",
        "\n",
        "\n",
        "values, indices = torch.max(tensor,dim=0)\n",
        "print(\"열 방향 최댓값 : {}\".format(values))\n",
        "print(\"열 방향 최댓값 index : {}\".format(indices))"
      ]
    },
    {
      "cell_type": "markdown",
      "metadata": {
        "id": "sokqaXRKlhTc"
      },
      "source": [
        "## 4 데이터 불러오기 (CIFAR-10 dataset)\n",
        "* CIFAT10 dataset은 10개의 분류 범주로 나누어진 60000장의 이미지들로 구성.\n",
        "* 각 이미지의 크기는 32 x 32\n",
        "* 훈련 데이터 : 50000장\n",
        "* 테스트 데이터 : 10000장 \n",
        "\n",
        "<img src = \"https://drive.google.com/uc?id=1MR6NfqxqiJonwDfsb_6bh2Oo4k8jmc4b\" height = 500 width = 700>\n"
      ]
    },
    {
      "cell_type": "code",
      "execution_count": 9,
      "metadata": {
        "colab": {
          "base_uri": "https://localhost:8080/"
        },
        "id": "1WyqlRzKlIYA",
        "outputId": "bbc47b0d-8c67-42d7-f0fb-8616b91a357b"
      },
      "outputs": [
        {
          "output_type": "stream",
          "name": "stdout",
          "text": [
            "1.12.1+cu113\n"
          ]
        }
      ],
      "source": [
        "import torchvision\n",
        "import torchvision.transforms as transforms\n",
        "print(torch.__version__)"
      ]
    },
    {
      "cell_type": "code",
      "execution_count": 10,
      "metadata": {
        "colab": {
          "base_uri": "https://localhost:8080/",
          "height": 103,
          "referenced_widgets": [
            "6a9bd78dcb7f4eb3a7666c4c6dfc1f6a",
            "af8f977632e34af293f7ccd15748e608",
            "67290f6e3acf456eaa66e68b4804cb82",
            "3d4d179e12204414a579f0521e340aff",
            "4187a3e44ea04825a7e7ae3fa529d3cd",
            "d7a26d32b0304a7c870c23f419823dbd",
            "4a0ae8c7f65640fdbc79fa06401a2256",
            "cff3820247b940f19834a36ed75c4ecf",
            "1a85c8317571453f9776fa77996e2669",
            "be4f705c9a2b4de09f78d2f9e574f27d",
            "095346220805492e86410889c8eca5d1"
          ]
        },
        "id": "37jW-wC4RXT0",
        "outputId": "30bdfdab-4d4f-463c-850e-c7abd648d25b"
      },
      "outputs": [
        {
          "output_type": "stream",
          "name": "stdout",
          "text": [
            "Downloading https://www.cs.toronto.edu/~kriz/cifar-10-python.tar.gz to ./data/cifar-10-python.tar.gz\n"
          ]
        },
        {
          "output_type": "display_data",
          "data": {
            "text/plain": [
              "  0%|          | 0/170498071 [00:00<?, ?it/s]"
            ],
            "application/vnd.jupyter.widget-view+json": {
              "version_major": 2,
              "version_minor": 0,
              "model_id": "6a9bd78dcb7f4eb3a7666c4c6dfc1f6a"
            }
          },
          "metadata": {}
        },
        {
          "output_type": "stream",
          "name": "stdout",
          "text": [
            "Extracting ./data/cifar-10-python.tar.gz to ./data\n",
            "Files already downloaded and verified\n"
          ]
        }
      ],
      "source": [
        "transform = transforms.Compose(\n",
        "    [transforms.ToTensor(),\n",
        "     transforms.Normalize((0.5, 0.5, 0.5), (0.5, 0.5, 0.5))])\n",
        "\n",
        "# Batch size : 이미지를 훈련시킬 떄 훈련 시키는 이미지 단위\n",
        "batch_size = 4\n",
        "\n",
        "trainset = torchvision.datasets.CIFAR10(root='./data', train=True,\n",
        "                                        download=True, transform=transform)\n",
        "trainloader = torch.utils.data.DataLoader(trainset, batch_size=batch_size,\n",
        "                                          shuffle=True, num_workers=2)\n",
        "\n",
        "testset = torchvision.datasets.CIFAR10(root='./data', train=False,\n",
        "                                       download=True, transform=transform)\n",
        "testloader = torch.utils.data.DataLoader(testset, batch_size=batch_size,\n",
        "                                         shuffle=False, num_workers=2)\n",
        "\n",
        "classes = ('plane', 'car', 'bird', 'cat',\n",
        "           'deer', 'dog', 'frog', 'horse', 'ship', 'truck')"
      ]
    },
    {
      "cell_type": "code",
      "execution_count": 11,
      "metadata": {
        "colab": {
          "base_uri": "https://localhost:8080/"
        },
        "id": "8Zi5QsiKRbRz",
        "outputId": "dc300278-9b41-41ca-f5ab-dc937e051c1d"
      },
      "outputs": [
        {
          "output_type": "stream",
          "name": "stdout",
          "text": [
            "50000\n",
            "10000\n"
          ]
        }
      ],
      "source": [
        "# 훈련 데이터 및 테스트 데이터 개수 확인\n",
        "print(len(trainset)) # 50000 장\n",
        "print(len(testset)) # 10000 장"
      ]
    },
    {
      "cell_type": "code",
      "execution_count": 12,
      "metadata": {
        "colab": {
          "base_uri": "https://localhost:8080/"
        },
        "id": "qIp1i1OvR64S",
        "outputId": "b0a75852-7fdf-4e87-a79e-d2956d8da5ca"
      },
      "outputs": [
        {
          "output_type": "stream",
          "name": "stdout",
          "text": [
            "torch.Size([4, 3, 32, 32])\n",
            "<class 'torch.Tensor'>\n",
            "<class 'torch.Tensor'>\n",
            "tensor(-1.)\n",
            "tensor(1.)\n",
            "torch.float32\n",
            "torch.Size([4])\n",
            "tensor([2, 3, 8, 8])\n"
          ]
        }
      ],
      "source": [
        "# 데이터 정보 확인 \n",
        "for img, label in trainloader:\n",
        "  print(img.shape) # 4 x 3 x 32 x 32 == 배치 크기 x 채널수(RGB 3채널) x 높이 x 너비 \n",
        "  print(type(img))\n",
        "  print(type(label)) \n",
        "  # CIFAR-10 Dataset은 -1 ~ 1사이의 값으로 Normalization이 되어있음.\n",
        "  # CIFAR-10 Dataset의 타입은 float32 \n",
        "  print(img.min()) \n",
        "  print(img.max())\n",
        "  print(img.dtype)\n",
        "  print(label.shape)\n",
        "  print(label) # 0~ 9까지의 범위를 갖음 (총 10개의 클래스)\n",
        "  break"
      ]
    },
    {
      "cell_type": "code",
      "execution_count": 13,
      "metadata": {
        "colab": {
          "base_uri": "https://localhost:8080/",
          "height": 156
        },
        "id": "d8densqbSXYW",
        "outputId": "c4361d3f-e48f-401e-83c2-1d9f176ce4d3"
      },
      "outputs": [
        {
          "output_type": "stream",
          "name": "stdout",
          "text": [
            "horse horse horse horse\n"
          ]
        },
        {
          "output_type": "display_data",
          "data": {
            "text/plain": [
              "<Figure size 432x288 with 1 Axes>"
            ],
            "image/png": "[encoded data removed]"
          },
          "metadata": {
            "needs_background": "light"
          }
        }
      ],
      "source": [
        "# 데이터 직접 시각화 \n",
        "%matplotlib inline\n",
        "import matplotlib.pyplot as plt\n",
        "import numpy as np\n",
        "\n",
        "def imshow(img):\n",
        "    img = img / 2 + 0.5 #  [-1,1] -> [0,1]로 바꿈 unnormalize\n",
        "    npimg = img.numpy()\n",
        "    plt.imshow(np.transpose(npimg, (1, 2, 0)))\n",
        "    plt.show()\n",
        "\n",
        "# 랜덤하게 섞은 훈련 데이터를 가져온다\n",
        "dataiter = iter(trainloader)\n",
        "images, labels = next(dataiter)\n",
        "\n",
        "# 각 이미지에 대한 class(target 값)들을 출력\n",
        "print(' '.join(f'{classes[labels[j]]:5s}' for j in range(batch_size)))\n",
        "# 각 이미지를 배치 단위로 보여준다\n",
        "imshow(torchvision.utils.make_grid(images))"
      ]
    },
    {
      "cell_type": "markdown",
      "metadata": {
        "id": "cn1T2u9Ha6_T"
      },
      "source": [
        "## 5 Pytorch Module API를 이용한 Neural Network 정의 및 사용법"
      ]
    },
    {
      "cell_type": "markdown",
      "metadata": {
        "id": "e-ZRBpRScIT1"
      },
      "source": [
        "### 5.1 이미지 분류 모델 전체적인 개요\n",
        "* 데이터가 들어온다(일반적으로 전처리를 함)\n",
        "* 딥러닝 모델에 데이터를 넣고 학습 시킨다\n",
        "* 학습 시킨 결과를 정답과 비교하여 손실 함수를 계산한다.\n",
        "* 손실 함수를 미분하여(backpropagation) 모델의 학습 파라미터를 업데이트 한다.\n",
        "* 위 과정을 일정 횟수만큼 반복한다\n",
        "* 학습 과정을 통해 얻은 모델 파라미터를 가지고 실제 테스트 데이터에 대해서 예측한다.\n",
        "* ***본 실습에서는 모델 구조를 디자인 것에 초점을 맞춘다.***\n",
        "\n",
        "<img src = \"https://drive.google.com/uc?id=1zEAialJ9VWbJltBMojLcsx9uuVQIQKpD\" height = 400 width = 700>\n",
        "\n"
      ]
    },
    {
      "cell_type": "markdown",
      "metadata": {
        "id": "GTiHWdDTicSq"
      },
      "source": [
        "### 5.2 Pytorch Module API 구조\n",
        "* Pytorch의 ```nn.Module```을 상속받아 Model을 정의할 클래스를 생성\n",
        "* 그 클래스의 내부 함수는 모델의 속성 값과 Layer에 대한 정보를 정의하는 ```__init__```함수와 모델이 데이터를 받아 실제 연산을 수행하는 ```forward``` 함수로 크게 구성되어 있다.\n",
        "* ```forward```의 함수의 경우 모델을 생성 후(클래스의 객체 생성) 인자로 데이터를 받는데 이 함수를 직접 호출하는 것이 아닌 모델 객체에 인자로 넣어주면 ```Backend```으로 실행한다는 것에 주의\n",
        "* 아래는 간단한 딥러닝 모델을 설계한 예시이다\n",
        "\n",
        "\n",
        "```python\n",
        "import torch.nn as nn\n",
        "import torch.nn.functional as F\n",
        "\n",
        "\n",
        "class My_Neural_Net(nn.Module):\n",
        "    def __init__(self):\n",
        "        super().__init__()\n",
        "        self.conv1 = nn.Conv2d(3, 6, 5)\n",
        "        self.pool = nn.MaxPool2d(2, 2)\n",
        "        self.conv2 = nn.Conv2d(6, 16, 5)\n",
        "        self.fc1 = nn.Linear(16 * 5 * 5, 120)\n",
        "        self.fc2 = nn.Linear(120, 84)\n",
        "        self.fc3 = nn.Linear(84, 10)\n",
        "\n",
        "    def forward(self, x):\n",
        "        x = self.pool(F.relu(self.conv1(x)))\n",
        "        x = self.pool(F.relu(self.conv2(x)))\n",
        "        x = torch.flatten(x, 1) # flatten all dimensions except batch\n",
        "        x = F.relu(self.fc1(x))\n",
        "        x = F.relu(self.fc2(x))\n",
        "        x = self.fc3(x)\n",
        "        return x\n",
        "\n",
        "# 모델 객체 생성\n",
        "net = My_Neural_Net()\n",
        "# 모델에 데이터를 넣어서 forward함수 실행(backend로)해서 모델의 결과값 출력\n",
        "# forward 함수를 직접 호출하지 않는 것에 주의한다.\n",
        "output = net(data) \n",
        "```"
      ]
    },
    {
      "cell_type": "markdown",
      "metadata": {
        "id": "U75JmFPxiaJA"
      },
      "source": [
        "## 6 간단한 선형 분류기(Linear Classifier) 구현\n",
        "* 2개의 Hidden layer를 갖는 model 구현\n",
        "* Linear Classifier는 Fullly Connected Layer(줄여서 FC)로 구현\n",
        "* 다음은 구현 모덜의 간단한 예시\n",
        "\n",
        "<img src = \"https://drive.google.com/uc?id=1OUWMAwigkbWhGgVp3dhxh8jE3Ljiq3TS\" height = 400 width = 700>\n"
      ]
    },
    {
      "cell_type": "markdown",
      "metadata": {
        "id": "3YQ6hiPyppZa"
      },
      "source": [
        "### 6.1 간단한 선형 분류기(Linear Classifier) 직관적 이해\n",
        "\n",
        "<img src = \"https://drive.google.com/uc?id=1kRGyhlxPk3k71rQAoiEwvScIovxzZ_nb\" height = 400 width = 800>\n",
        "\n",
        "<img src = \"https://drive.google.com/uc?id=1ae98uHvMtOeGXosxEtXvNmLYkoBuljhb\" height = 400 width = 800>\n",
        "\n",
        "<img src = \"https://drive.google.com/uc?id=198omwNwirr7gktp5aKDOhNvE4LNQBUw2\" height = 400 width = 800>\n"
      ]
    },
    {
      "cell_type": "markdown",
      "metadata": {
        "id": "gLtwafA1sMCl"
      },
      "source": [
        "### 6.2 간단한 선형 분류기(Linear Classifier) 모델 Pytorch 구현\n",
        "* 모델의 Layer는 총 3개(hidden layer 2개 + output layer 1개)로 구성\n",
        "* ```nn.Linear(in_features, out_features, bias=True, device=None, dtype=None)```을 사용하여 FC 구현\n",
        "* ```nn.Linear```의 인자\n",
        "* ```in_features``` : 입력 데이터의 차원\n",
        "* ```out_features``` : 결과 값의 차원\n",
        " "
      ]
    },
    {
      "cell_type": "code",
      "execution_count": 14,
      "metadata": {
        "id": "gcqjhpBuXEy_"
      },
      "outputs": [],
      "source": [
        "from torch import nn\n",
        "random_seed = 1114\n",
        "torch.manual_seed(random_seed)\n",
        "class My_Linear_model(nn.Module):\n",
        "    def __init__(self):\n",
        "        super().__init__()\n",
        "        self.fc1 = nn.Linear(32 * 32 * 3, 512) #인자로 받는 첫번쨰 인자로는 입력데이터의 차원이다. 다 플래트 시킨 차원이다. \n",
        "        #원래 차원이 32 *32 *3이엿다 이게 차원이 된다 이거를 입력인자로 넘겨주고. 그 다음에 그거를 바꾸고자 하는 차원으로 넣어준다. (512차웡느로 바뀜)\n",
        "        #512는 지맘대로 그 다음엔 activation fcuntion인데 그냥 딥러닝 모델이 쉽게 설명하면 이건 이론시간에 배웟을 것이다 \n",
        "        #모델의 비선형성을 추가해준다는 것. 그냥 보통 어떤 레이어를 통과한ㄷ ㅏ음에 activation 함수 쓴다고만 알아두자. 자세한건 다음 시간에 설명\n",
        "        #기본저긍로 어떤 레이어를 통과한 다음 쓴다고만 알아라.\n",
        "        self.activation1 = nn.ReLU()\n",
        "        self.fc2 = nn.Linear(512, 512) #두번쨰를 512 , 512로 주엇다. 맞춰주여야할께 fc1 출력 ㄱ밧과 입력값은 똑같아야한다 아웃값은 맘대로.\n",
        "        self.activation2 = nn.ReLU()\n",
        "        self.out_fc = nn.Linear(512, 10) #클래스 10개를 예상하는거니깐 이제 10개를 아웃풋으로!\n",
        "\n",
        "    def forward(self, x):\n",
        "      #포워드에서 인풋 데이터가 들어옴 이미지가 3차원 데이터인데 플리커넥티드 데이터를 스기 위해서 1차원으로 시켜줘야하는 함수가 바로 flatten이다.\n",
        "      #1이 뭐냐면 기본적으로 이미지가 데이터가 4차원 데이터인데 배치사이즈가 0이고 0 1 2 3 이 되는건데 플래트를 사용해서 첫번쨰 인덱스를 시작해서 마지막 인덱스를 다 \n",
        "      #플래튼 즉 펼쳐버리겟다라는 듯 fc1은 플렉스 시킨 상태에서 통과 시키는 것. 정의를 해야함. \n",
        "      \n",
        "        # x는 기본적으로 4차원 데이터\n",
        "        # x : 배치 사이즈 x 3(채널수) x 높이 x 너비 \n",
        "        x = x.flatten(1) # 채널 차원부터 ~ 너비까지 모두 1차원 vector로 만듦\n",
        "        x = self.fc1(x)\n",
        "        x = self.activation1(x)\n",
        "        x = self.fc2(x)\n",
        "        x = self.activation2(x)\n",
        "        x = self.out_fc(x) #통과 시키고 통과시키고. 이게 과제의 기본적인 뉴럴네트워크의 기본적인 메커니즘이다. \n",
        "        return x"
      ]
    },
    {
      "cell_type": "code",
      "execution_count": 15,
      "metadata": {
        "colab": {
          "base_uri": "https://localhost:8080/"
        },
        "id": "bv7MR6YHvdUx",
        "outputId": "4770ae82-876f-4627-e943-0092f19d5bc9"
      },
      "outputs": [
        {
          "output_type": "stream",
          "name": "stdout",
          "text": [
            "cuda\n",
            "model info : \n",
            " My_Linear_model(\n",
            "  (fc1): Linear(in_features=3072, out_features=512, bias=True)\n",
            "  (activation1): ReLU()\n",
            "  (fc2): Linear(in_features=512, out_features=512, bias=True)\n",
            "  (activation2): ReLU()\n",
            "  (out_fc): Linear(in_features=512, out_features=10, bias=True)\n",
            ")\n"
          ]
        }
      ],
      "source": [
        "device = 'cuda' if torch.cuda.is_available() else 'cpu'\n",
        "print(device)\n",
        "model = My_Linear_model().to(device)\n",
        "print(\"model info : \\n {}\".format(model))"
      ]
    },
    {
      "cell_type": "code",
      "execution_count": 16,
      "metadata": {
        "colab": {
          "base_uri": "https://localhost:8080/"
        },
        "id": "XxVtO_wkv73J",
        "outputId": "5e75d6f8-9064-4ef2-a6f5-795bb78fe213"
      },
      "outputs": [
        {
          "output_type": "stream",
          "name": "stdout",
          "text": [
            "output shape : torch.Size([1, 10])\n",
            "y_pred shape : tensor([4], device='cuda:0')\n",
            "predicted class : tensor([4], device='cuda:0')\n"
          ]
        }
      ],
      "source": [
        "# Training 하기 전 모델 예측 테스트\n",
        "x = torch.rand(1,3,32,32,device=device)\n",
        "output = model(x)\n",
        "print(\"output shape : {}\".format(output.shape))\n",
        "prob_output = nn.Softmax(dim=-1)(output)\n",
        "y_pred = prob_output.argmax(-1)\n",
        "print(\"y_pred shape : {}\".format(y_pred))\n",
        "print(\"predicted class : {}\".format(y_pred))\n"
      ]
    },
    {
      "cell_type": "code",
      "execution_count": 17,
      "metadata": {
        "id": "TGeakOcnx0xQ"
      },
      "outputs": [],
      "source": [
        "# loss 및 optimizer 정의 \n",
        "import torch.optim as optim\n",
        "\n",
        "criterion = nn.CrossEntropyLoss()\n",
        "optimizer = optim.SGD(model.parameters(), lr=0.001, momentum=0.9)"
      ]
    },
    {
      "cell_type": "code",
      "execution_count": 18,
      "metadata": {
        "colab": {
          "base_uri": "https://localhost:8080/"
        },
        "id": "FYk8BpbCyYxn",
        "outputId": "bc5919d8-06c8-451e-a03b-ba7548f88721"
      },
      "outputs": [
        {
          "output_type": "stream",
          "name": "stdout",
          "text": [
            "[1,  2000] loss: 1.922\n",
            "[1,  4000] loss: 1.690\n",
            "[1,  6000] loss: 1.635\n",
            "[1,  8000] loss: 1.586\n",
            "[1, 10000] loss: 1.558\n",
            "[1, 12000] loss: 1.509\n",
            "[2,  2000] loss: 1.414\n",
            "[2,  4000] loss: 1.428\n",
            "[2,  6000] loss: 1.437\n",
            "[2,  8000] loss: 1.408\n",
            "[2, 10000] loss: 1.395\n",
            "[2, 12000] loss: 1.383\n",
            "[3,  2000] loss: 1.291\n",
            "[3,  4000] loss: 1.288\n",
            "[3,  6000] loss: 1.294\n",
            "[3,  8000] loss: 1.295\n",
            "[3, 10000] loss: 1.295\n",
            "[3, 12000] loss: 1.299\n",
            "[4,  2000] loss: 1.166\n",
            "[4,  4000] loss: 1.187\n",
            "[4,  6000] loss: 1.188\n",
            "[4,  8000] loss: 1.198\n",
            "[4, 10000] loss: 1.229\n",
            "[4, 12000] loss: 1.199\n",
            "[5,  2000] loss: 1.051\n",
            "[5,  4000] loss: 1.112\n",
            "[5,  6000] loss: 1.115\n",
            "[5,  8000] loss: 1.114\n",
            "[5, 10000] loss: 1.118\n",
            "[5, 12000] loss: 1.163\n",
            "[6,  2000] loss: 0.994\n",
            "[6,  4000] loss: 1.023\n",
            "[6,  6000] loss: 1.017\n",
            "[6,  8000] loss: 1.021\n",
            "[6, 10000] loss: 1.066\n",
            "[6, 12000] loss: 1.064\n",
            "[7,  2000] loss: 0.902\n",
            "[7,  4000] loss: 0.960\n",
            "[7,  6000] loss: 0.945\n",
            "[7,  8000] loss: 0.973\n",
            "[7, 10000] loss: 0.964\n",
            "[7, 12000] loss: 0.998\n",
            "[8,  2000] loss: 0.835\n",
            "[8,  4000] loss: 0.847\n",
            "[8,  6000] loss: 0.883\n",
            "[8,  8000] loss: 0.879\n",
            "[8, 10000] loss: 0.914\n",
            "[8, 12000] loss: 0.910\n",
            "[9,  2000] loss: 0.745\n",
            "[9,  4000] loss: 0.776\n",
            "[9,  6000] loss: 0.816\n",
            "[9,  8000] loss: 0.846\n",
            "[9, 10000] loss: 0.852\n",
            "[9, 12000] loss: 0.842\n",
            "[10,  2000] loss: 0.683\n",
            "[10,  4000] loss: 0.708\n",
            "[10,  6000] loss: 0.746\n",
            "[10,  8000] loss: 0.740\n",
            "[10, 10000] loss: 0.768\n",
            "[10, 12000] loss: 0.790\n",
            "Finished Training\n"
          ]
        }
      ],
      "source": [
        "# 훈련 하기\n",
        "\n",
        "\n",
        "for epoch in range(10):   # 데이터셋을 수차례 반복합니다.\n",
        "\n",
        "    running_loss = 0.0\n",
        "    for i, data in enumerate(trainloader, 0):\n",
        "        # [inputs, labels]의 목록인 data로부터 입력을 받은 후;\n",
        "        inputs, labels = data[0].to(device), data[1].to(device)\n",
        "\n",
        "        # 변화도(Gradient) 매개변수를 0으로 만들고\n",
        "        optimizer.zero_grad()\n",
        "\n",
        "        # 순전파 + 역전파 + 최적화를 한 후\n",
        "        outputs = model(inputs)\n",
        "        loss = criterion(outputs, labels)\n",
        "        loss.backward()\n",
        "        optimizer.step()\n",
        "\n",
        "        # 통계를 출력합니다.\n",
        "        running_loss += loss.item()\n",
        "        if i % 2000 == 1999:    # print every 2000 mini-batches\n",
        "            print(f'[{epoch + 1}, {i + 1:5d}] loss: {running_loss / 2000:.3f}')\n",
        "            running_loss = 0.0\n",
        "\n",
        "print('Finished Training')"
      ]
    },
    {
      "cell_type": "code",
      "execution_count": 19,
      "metadata": {
        "id": "k0FjGlzW1InC"
      },
      "outputs": [],
      "source": [
        "# 훈련이 끝난 모델의 파라미터 저장\n",
        "PATH = './cifar_net.pth'\n",
        "torch.save(model.state_dict(), PATH)"
      ]
    },
    {
      "cell_type": "code",
      "execution_count": 20,
      "metadata": {
        "colab": {
          "base_uri": "https://localhost:8080/"
        },
        "id": "Er10t6Lw3rWy",
        "outputId": "a09f0597-4db0-4c82-9cf8-684a8d6d1519"
      },
      "outputs": [
        {
          "output_type": "execute_result",
          "data": {
            "text/plain": [
              "<All keys matched successfully>"
            ]
          },
          "metadata": {},
          "execution_count": 20
        }
      ],
      "source": [
        "# 새로운 모델 객체를 만들고 저장했던 가중치를 불러옴\n",
        "new_model = My_Linear_model()\n",
        "new_model.load_state_dict(torch.load(PATH))"
      ]
    },
    {
      "cell_type": "code",
      "execution_count": 21,
      "metadata": {
        "colab": {
          "base_uri": "https://localhost:8080/"
        },
        "id": "tSfZwbiz364B",
        "outputId": "60e199be-8c3c-4f3d-e51c-dc86bdf63eef"
      },
      "outputs": [
        {
          "output_type": "stream",
          "name": "stdout",
          "text": [
            "Accuracy of the network on the 10000 test images: 54 %\n"
          ]
        }
      ],
      "source": [
        "# Test 데이터로 모델 정확도 평가 \n",
        "correct = 0\n",
        "total = 0\n",
        "model.to(device)\n",
        "# since we're not training, we don't need to calculate the gradients for our outputs\n",
        "with torch.no_grad():\n",
        "    for data in testloader:\n",
        "        images, labels = data[0].to(device), data[1].to(device)\n",
        "        # calculate outputs by running images through the network\n",
        "        outputs = model(images)\n",
        "        # the class with the highest energy is what we choose as prediction\n",
        "        _, predicted = torch.max(outputs.data, 1)\n",
        "        total += labels.size(0)\n",
        "        correct += (predicted == labels).sum().item()\n",
        "\n",
        "print(f'Accuracy of the network on the 10000 test images: {100 * correct // total} %')"
      ]
    },
    {
      "cell_type": "markdown",
      "metadata": {
        "id": "C4rDxo-E46mS"
      },
      "source": [
        "## 7 과제 - CNN(Convolutional Neural Network) 모델 구현하기\n",
        "* CNN 모델을 자유롭게 구현하여 위의 Linear Classifier의 Test data에 대한 성능보다 더 높게 나오는 것이 목표\n",
        "* 기본적으로 각 Layer는 ```nn.Conv2d``` -> ```nn.ReLU``` 로 구성(추가로 ```nn.ReLU``` 다음에 ```nn.MaxPool2d```도 사용 가능하나 이건 선택)\n",
        "* ```nn.Conv2d(in_channels, out_channels, kernel_size, stride=1, padding=0, dilation=1, groups=1, bias=True, padding_mode='zeros', device=None, dtype=None)``` 사용할 것(https://pytorch.org/docs/stable/generated/torch.nn.Conv2d.html?highlight=conv2d#torch.nn.Conv2d API 문서 참고)\n",
        "* ```nn.Conv2d``` 주요 인자\n",
        "* ```in_channels``` : 입력 데이터의 채널 차원\n",
        "* ```out_channels``` : 결과로 나올 데이터의 채널 차원\n",
        "* ```kernel_size``` : convolution 연산 시 사용할 filter 크기(예를들어, 3x3이면 kernel_size=3)\n",
        "* ```stride``` : convolution 연산 시 보폭(예를들어, stride=2, 2폭)\n",
        "* ```padding``` : convolution 연산 시 padding 폭(예를들어, padding=1, padding 1폭)\n",
        "* 그외 나머지 인자는 특별한 언급이 없는 한 사용하지 않아도 무방.\n",
        "* **Conv 연산시 주의 사항(매우 중요)**\n",
        "  * Conv연산을 하고나면 일반적으로 데이터의 공간적 크기(높이 x 너비)는 줄어들고 대신 채널 차원은 증가한다. 이것의 의미는 공간적 크기를 줄여가면서 (receptive field를 키워나가면서) 이미지의 특징을 집약한다는 것을 의미. \n",
        "\n",
        "<img src = \"https://drive.google.com/uc?id=1A7k5CemeLt4ILoqDdplfn1jtn9kF9zm2\" height = 400 width = 800>\n",
        "\n",
        "  * Conv연산에 따른 공간적 크기가 각 conv layer를 통과할떄 마다 파악을 하고 있어야 한다. 왜냐하면 마지막 Class에 대한 FC Layer를 정의하기 위해서 인자 값으로 입력 데이터의 차원이 필요한데 이때 차원은 3차원의 이미지를 모두 1차원으로 바꾼다. 따라서 이때 1차원으로 바뀐 차원을 미리 계산하여 파악하고 있어야 한다. 공간적 크기가 어떻게 바뀌는지는 다음과 같은 식에 의해서 계산 가능.(여기서 K : kernel size, S : Stride, P: Padding 폭)\n",
        "\n",
        "<img src = \"https://drive.google.com/uc?id=1hptHexxtLiO0KA0TDMi96BDXKVQ0L6c2\" height = 250 width = 500>\n",
        "\n",
        "\n",
        "\n",
        "\n"
      ]
    },
    {
      "cell_type": "code",
      "execution_count": 79,
      "metadata": {
        "id": "_6jqO3Rm4fSN"
      },
      "outputs": [],
      "source": [
        "import torch\n",
        "from torch import nn\n",
        "import torch.nn.functional as F\n",
        "#과제는 CNN배웟을 것이다 이걸 직접 연산자를 가지고 짠다. \n",
        "#이걸 가지고 모델을 예측하는것 아까 플래커니어트 머시기 아까 위에선 정확도 53 이 나왓는데 이거는 70%정도 나오더라\n",
        "#이거는 53%보다 좀 더 높게 나오게 해야함. 단 컨볼루젼 연산 써서 직전에 햇던 성능이 조금 더 높게하면 만점\n",
        "#컨볼루젼 레이어를 어떻게 사용하는지 설명함\n",
        "#먼저 토치에서는 Conv2d를 가져와서쓰면 되는데 기본적으로 레이어라고 햇는대 각 레이어 기본 구성은 conv2d를 통과한다음 Relu를 사용한다. \n",
        "#거기다 +로 맥스 스플릿까지 ,,\n",
        "#컨볼루젼 하면 공간 크기는 줄어들고 채널 차원은 증가한다. 클래스를 예측하고자 할대 플래커넥티드를 통과시킬거다\n",
        "#아까전에 햇을떄에는 최종적으로 클래스를 예측하기 위해 플레커넥티드 레이어를 통과시켜 아웃풀을 만들것인데. 뒤에 10인 고정이 될거다.\n",
        "#그런데 512라고 하는 인풋값은 어떻게 cnn설정에 따라 다 값이 달라질것이다. 여러분게서 컨볼루젼 레이어를 통과할때 ㅓㅍㄹ레커넥티드 레이어에서 그 값을 설정하기 위해서 각각 레이어를 통과햇을대 shape와 채널이 몇인지를 파악 할 수 있어야 한다\n",
        "#그래야 넣을 수 있따.\n",
        "#그래서 컨볼루젼은 통과했을대 옵션을 줘서 나오는 아웃풋의 값을 어떻게 알 수 있을까? 밑에 그냥 단순한 공식이 잇다. ih 인풋 높이 \n",
        "#kh은 커널 2p 패딩 s 는 스트라이드. floor는 거리. \n",
        "class My_CNN(nn.Module):\n",
        "    def __init__(self):\n",
        "        super().__init__()\n",
        "        #####################################\n",
        "        # TODO __init__ 메소드 구현\n",
        "        #####################################\n",
        "        #28 * 28 => 24 * 24 => 12 * 12 -> 8 * 8 -> 4 * 4 -> 10 \n",
        "\n",
        "        #특징을 추출해서 학습을 한다--\n",
        "        #RGB라고 하면 채널 수가 3개. 출력 수는 6으로 설정 하였습니다. 필터는 5*5를 사용 하였습니다.\n",
        "        self.conv1 = nn.Conv2d(3, 6, 5, stride=1, padding=0, dilation=1, groups=1, bias=True, padding_mode='zeros', device=None, dtype=None)\n",
        "        #출력된 값으로 채널 수 유지하면서 풀링을 해줍니다.\n",
        "        self.pool1 = nn.MaxPool2d(2,2)\n",
        "        self.activation1 = nn.ReLU()\n",
        "        #이전에선 6개의 채널을 출력으로 냈으니 6개의 채널을 받아 16개를 출력을 합니다 필터는 5*5를 사용 하였습니다.\n",
        "        self.conv2 = nn.Conv2d(6, 16, 5, stride=1, padding=0, dilation=1, groups=1, bias=True, padding_mode='zeros', device=None, dtype=None)\n",
        "        #출력된 값으로 채널 수 유지하면서 풀링을 해줍니다.\n",
        "        self.pool2 = nn.MaxPool2d(2,2)\n",
        "        self.activation2 = nn.ReLU()\n",
        "        #flatten을 해줘 쭉 늘려줍니다.\n",
        "        #fully connected layer 만듭니다\n",
        "        #16개의 채널을 사용하엿고 5*5를 사용, 아웃값은 512로 설정 하였습니다.\n",
        "        self.fc3 = nn.Linear(16 * 5 * 5, 512)\n",
        "        #activation function을 적용해줍니다. \n",
        "        self.activation3 = nn.ReLU()\n",
        "        #이제 classification을 해야하니 10개 노드를 가진 FC layer를 만듭니다\n",
        "        self.fc4 = nn.Linear(512, 10)\n",
        "        #activation function을 적용합니다.\n",
        "        self.activation4 = nn.ReLU()\n",
        "    def forward(self, x):\n",
        "        #####################################\n",
        "        # TODO Forward 메소드 구현\n",
        "        # x는 기본적으로 4차원 데이터\n",
        "        # x : 배치 사이즈 x 3(채널수) x 높이 x 너비 \n",
        "        #####################################\n",
        "\n",
        "        #위의 과정을 순서대로 적어주었습니다.\n",
        "        x = self.conv1(x)\n",
        "        x = self.activation1(x)\n",
        "        x = self.pool1(x)\n",
        "        x = self.conv2(x) \n",
        "        x = self.activation2(x)\n",
        "        x = self.pool2(x)\n",
        "        x = x.flatten(1) #펴주는 역할\n",
        "        x = self.fc3(x)\n",
        "        x = self.activation3(x)\n",
        "        x = self.fc4(x)\n",
        "        x = self.activation4(x)\n",
        "        return x"
      ]
    },
    {
      "cell_type": "code",
      "execution_count": 80,
      "metadata": {
        "colab": {
          "base_uri": "https://localhost:8080/"
        },
        "id": "4nexcHUfE5zq",
        "outputId": "f4a6a4bc-1800-4900-d53f-d957533d22ab"
      },
      "outputs": [
        {
          "output_type": "stream",
          "name": "stdout",
          "text": [
            "cuda\n",
            "[1,  2000] loss: 2.231\n",
            "[1,  4000] loss: 1.999\n",
            "[1,  6000] loss: 1.722\n",
            "[1,  8000] loss: 1.542\n",
            "[1, 10000] loss: 1.473\n",
            "[1, 12000] loss: 1.444\n",
            "[2,  2000] loss: 1.335\n",
            "[2,  4000] loss: 1.307\n",
            "[2,  6000] loss: 1.294\n",
            "[2,  8000] loss: 1.276\n",
            "[2, 10000] loss: 1.231\n",
            "[2, 12000] loss: 1.224\n",
            "[3,  2000] loss: 1.094\n",
            "[3,  4000] loss: 1.118\n",
            "[3,  6000] loss: 1.135\n",
            "[3,  8000] loss: 1.100\n",
            "[3, 10000] loss: 1.137\n",
            "[3, 12000] loss: 1.122\n",
            "[4,  2000] loss: 0.983\n",
            "[4,  4000] loss: 0.990\n",
            "[4,  6000] loss: 0.985\n",
            "[4,  8000] loss: 1.015\n",
            "[4, 10000] loss: 1.012\n",
            "[4, 12000] loss: 1.008\n",
            "[5,  2000] loss: 0.879\n",
            "[5,  4000] loss: 0.888\n",
            "[5,  6000] loss: 0.903\n",
            "[5,  8000] loss: 0.925\n",
            "[5, 10000] loss: 0.931\n",
            "[5, 12000] loss: 0.926\n",
            "[6,  2000] loss: 0.764\n",
            "[6,  4000] loss: 0.795\n",
            "[6,  6000] loss: 0.829\n",
            "[6,  8000] loss: 0.837\n",
            "[6, 10000] loss: 0.859\n",
            "[6, 12000] loss: 0.862\n",
            "[7,  2000] loss: 0.680\n",
            "[7,  4000] loss: 0.712\n",
            "[7,  6000] loss: 0.734\n",
            "[7,  8000] loss: 0.768\n",
            "[7, 10000] loss: 0.795\n",
            "[7, 12000] loss: 0.801\n",
            "[8,  2000] loss: 0.600\n",
            "[8,  4000] loss: 0.649\n",
            "[8,  6000] loss: 0.650\n",
            "[8,  8000] loss: 0.687\n",
            "[8, 10000] loss: 0.739\n",
            "[8, 12000] loss: 0.734\n",
            "[9,  2000] loss: 0.549\n",
            "[9,  4000] loss: 0.561\n",
            "[9,  6000] loss: 0.600\n",
            "[9,  8000] loss: 0.652\n",
            "[9, 10000] loss: 0.683\n",
            "[9, 12000] loss: 0.669\n",
            "[10,  2000] loss: 0.489\n",
            "[10,  4000] loss: 0.499\n",
            "[10,  6000] loss: 0.544\n",
            "[10,  8000] loss: 0.583\n",
            "[10, 10000] loss: 0.613\n",
            "[10, 12000] loss: 0.626\n",
            "Finished Training\n"
          ]
        }
      ],
      "source": [
        "device = 'cuda' if torch.cuda.is_available() else 'cpu'\n",
        "print(device)\n",
        "model = My_CNN().to(device)\n",
        "# 모델 아키텍처를 확인하고 싶으면 주석 풀어서 확인 \n",
        "#print(\"model info : \\n {}\".format(model))\n",
        "\n",
        "# loss 및 optimizer 정의 \n",
        "import torch.optim as optim\n",
        "\n",
        "criterion = nn.CrossEntropyLoss()\n",
        "optimizer = optim.SGD(model.parameters(), lr=0.001, momentum=0.9)\n",
        "\n",
        "\n",
        "# 훈련 하기\n",
        "# epoch는 동일하게 10으로 설정 \n",
        "for epoch in range(10):   # 데이터셋을 수차례 반복합니다.\n",
        "\n",
        "    running_loss = 0.0\n",
        "    for i, data in enumerate(trainloader, 0):\n",
        "        # [inputs, labels]의 목록인 data로부터 입력을 받은 후;\n",
        "        inputs, labels = data[0].to(device), data[1].to(device)\n",
        "\n",
        "        # 변화도(Gradient) 매개변수를 0으로 만들고\n",
        "        optimizer.zero_grad()\n",
        "\n",
        "        # 순전파 + 역전파 + 최적화를 한 후\n",
        "        outputs = model(inputs)\n",
        "        loss = criterion(outputs, labels)\n",
        "        loss.backward()\n",
        "        optimizer.step()\n",
        "\n",
        "        # 통계를 출력합니다.\n",
        "        running_loss += loss.item()\n",
        "        if i % 2000 == 1999:    # print every 2000 mini-batches\n",
        "            print(f'[{epoch + 1}, {i + 1:5d}] loss: {running_loss / 2000:.3f}')\n",
        "            running_loss = 0.0\n",
        "\n",
        "print('Finished Training')\n",
        "\n",
        "\n",
        "# 훈련이 끝난 모델의 파라미터 저장\n",
        "PATH = './my_cnn.pth'\n",
        "torch.save(model.state_dict(), PATH)"
      ]
    },
    {
      "cell_type": "code",
      "execution_count": 81,
      "metadata": {
        "colab": {
          "base_uri": "https://localhost:8080/"
        },
        "id": "Q1JLbmujLJmm",
        "outputId": "e193f08f-3592-4dc2-9045-ffa9bbeee681"
      },
      "outputs": [
        {
          "output_type": "stream",
          "name": "stdout",
          "text": [
            "Accuracy of the network on the 10000 test images: 61 %\n"
          ]
        }
      ],
      "source": [
        "# 새로운 모델 객체를 만들고 저장했던 가중치를 불러옴\n",
        "new_model = My_CNN()\n",
        "new_model.load_state_dict(torch.load(PATH))\n",
        "\n",
        "# Test 데이터로 모델 정확도 평가 \n",
        "correct = 0\n",
        "total = 0\n",
        "model.to(device)\n",
        "with torch.no_grad():\n",
        "    for data in testloader:\n",
        "        images, labels = data[0].to(device), data[1].to(device)\n",
        "        outputs = model(images)\n",
        "        _, predicted = torch.max(outputs.data, 1)\n",
        "        total += labels.size(0)\n",
        "        correct += (predicted == labels).sum().item()\n",
        "\n",
        "print(f'Accuracy of the network on the 10000 test images: {100 * correct // total} %')"
      ]
    },
    {
      "cell_type": "code",
      "execution_count": null,
      "metadata": {
        "id": "myBmnmFoIJUj"
      },
      "outputs": [],
      "source": []
    }
  ],
  "metadata": {
    "accelerator": "GPU",
    "colab": {
      "provenance": [],
      "toc_visible": true
    },
    "gpuClass": "standard",
    "kernelspec": {
      "display_name": "Python 3",
      "name": "python3"
    },
    "language_info": {
      "name": "python"
    },
    "widgets": {
      "application/vnd.jupyter.widget-state+json": {
        "6a9bd78dcb7f4eb3a7666c4c6dfc1f6a": {
          "model_module": "@jupyter-widgets/controls",
          "model_name": "HBoxModel",
          "model_module_version": "1.5.0",
          "state": {
            "_dom_classes": [],
            "_model_module": "@jupyter-widgets/controls",
            "_model_module_version": "1.5.0",
            "_model_name": "HBoxModel",
            "_view_count": null,
            "_view_module": "@jupyter-widgets/controls",
            "_view_module_version": "1.5.0",
            "_view_name": "HBoxView",
            "box_style": "",
            "children": [
              "IPY_MODEL_af8f977632e34af293f7ccd15748e608",
              "IPY_MODEL_67290f6e3acf456eaa66e68b4804cb82",
              "IPY_MODEL_3d4d179e12204414a579f0521e340aff"
            ],
            "layout": "IPY_MODEL_4187a3e44ea04825a7e7ae3fa529d3cd"
          }
        },
        "af8f977632e34af293f7ccd15748e608": {
          "model_module": "@jupyter-widgets/controls",
          "model_name": "HTMLModel",
          "model_module_version": "1.5.0",
          "state": {
            "_dom_classes": [],
            "_model_module": "@jupyter-widgets/controls",
            "_model_module_version": "1.5.0",
            "_model_name": "HTMLModel",
            "_view_count": null,
            "_view_module": "@jupyter-widgets/controls",
            "_view_module_version": "1.5.0",
            "_view_name": "HTMLView",
            "description": "",
            "description_tooltip": null,
            "layout": "IPY_MODEL_d7a26d32b0304a7c870c23f419823dbd",
            "placeholder": "​",
            "style": "IPY_MODEL_4a0ae8c7f65640fdbc79fa06401a2256",
            "value": "100%"
          }
        },
        "67290f6e3acf456eaa66e68b4804cb82": {
          "model_module": "@jupyter-widgets/controls",
          "model_name": "FloatProgressModel",
          "model_module_version": "1.5.0",
          "state": {
            "_dom_classes": [],
            "_model_module": "@jupyter-widgets/controls",
            "_model_module_version": "1.5.0",
            "_model_name": "FloatProgressModel",
            "_view_count": null,
            "_view_module": "@jupyter-widgets/controls",
            "_view_module_version": "1.5.0",
            "_view_name": "ProgressView",
            "bar_style": "success",
            "description": "",
            "description_tooltip": null,
            "layout": "IPY_MODEL_cff3820247b940f19834a36ed75c4ecf",
            "max": 170498071,
            "min": 0,
            "orientation": "horizontal",
            "style": "IPY_MODEL_1a85c8317571453f9776fa77996e2669",
            "value": 170498071
          }
        },
        "3d4d179e12204414a579f0521e340aff": {
          "model_module": "@jupyter-widgets/controls",
          "model_name": "HTMLModel",
          "model_module_version": "1.5.0",
          "state": {
            "_dom_classes": [],
            "_model_module": "@jupyter-widgets/controls",
            "_model_module_version": "1.5.0",
            "_model_name": "HTMLModel",
            "_view_count": null,
            "_view_module": "@jupyter-widgets/controls",
            "_view_module_version": "1.5.0",
            "_view_name": "HTMLView",
            "description": "",
            "description_tooltip": null,
            "layout": "IPY_MODEL_be4f705c9a2b4de09f78d2f9e574f27d",
            "placeholder": "​",
            "style": "IPY_MODEL_095346220805492e86410889c8eca5d1",
            "value": " 170498071/170498071 [00:04&lt;00:00, 26615727.75it/s]"
          }
        },
        "4187a3e44ea04825a7e7ae3fa529d3cd": {
          "model_module": "@jupyter-widgets/base",
          "model_name": "LayoutModel",
          "model_module_version": "1.2.0",
          "state": {
            "_model_module": "@jupyter-widgets/base",
            "_model_module_version": "1.2.0",
            "_model_name": "LayoutModel",
            "_view_count": null,
            "_view_module": "@jupyter-widgets/base",
            "_view_module_version": "1.2.0",
            "_view_name": "LayoutView",
            "align_content": null,
            "align_items": null,
            "align_self": null,
            "border": null,
            "bottom": null,
            "display": null,
            "flex": null,
            "flex_flow": null,
            "grid_area": null,
            "grid_auto_columns": null,
            "grid_auto_flow": null,
            "grid_auto_rows": null,
            "grid_column": null,
            "grid_gap": null,
            "grid_row": null,
            "grid_template_areas": null,
            "grid_template_columns": null,
            "grid_template_rows": null,
            "height": null,
            "justify_content": null,
            "justify_items": null,
            "left": null,
            "margin": null,
            "max_height": null,
            "max_width": null,
            "min_height": null,
            "min_width": null,
            "object_fit": null,
            "object_position": null,
            "order": null,
            "overflow": null,
            "overflow_x": null,
            "overflow_y": null,
            "padding": null,
            "right": null,
            "top": null,
            "visibility": null,
            "width": null
          }
        },
        "d7a26d32b0304a7c870c23f419823dbd": {
          "model_module": "@jupyter-widgets/base",
          "model_name": "LayoutModel",
          "model_module_version": "1.2.0",
          "state": {
            "_model_module": "@jupyter-widgets/base",
            "_model_module_version": "1.2.0",
            "_model_name": "LayoutModel",
            "_view_count": null,
            "_view_module": "@jupyter-widgets/base",
            "_view_module_version": "1.2.0",
            "_view_name": "LayoutView",
            "align_content": null,
            "align_items": null,
            "align_self": null,
            "border": null,
            "bottom": null,
            "display": null,
            "flex": null,
            "flex_flow": null,
            "grid_area": null,
            "grid_auto_columns": null,
            "grid_auto_flow": null,
            "grid_auto_rows": null,
            "grid_column": null,
            "grid_gap": null,
            "grid_row": null,
            "grid_template_areas": null,
            "grid_template_columns": null,
            "grid_template_rows": null,
            "height": null,
            "justify_content": null,
            "justify_items": null,
            "left": null,
            "margin": null,
            "max_height": null,
            "max_width": null,
            "min_height": null,
            "min_width": null,
            "object_fit": null,
            "object_position": null,
            "order": null,
            "overflow": null,
            "overflow_x": null,
            "overflow_y": null,
            "padding": null,
            "right": null,
            "top": null,
            "visibility": null,
            "width": null
          }
        },
        "4a0ae8c7f65640fdbc79fa06401a2256": {
          "model_module": "@jupyter-widgets/controls",
          "model_name": "DescriptionStyleModel",
          "model_module_version": "1.5.0",
          "state": {
            "_model_module": "@jupyter-widgets/controls",
            "_model_module_version": "1.5.0",
            "_model_name": "DescriptionStyleModel",
            "_view_count": null,
            "_view_module": "@jupyter-widgets/base",
            "_view_module_version": "1.2.0",
            "_view_name": "StyleView",
            "description_width": ""
          }
        },
        "cff3820247b940f19834a36ed75c4ecf": {
          "model_module": "@jupyter-widgets/base",
          "model_name": "LayoutModel",
          "model_module_version": "1.2.0",
          "state": {
            "_model_module": "@jupyter-widgets/base",
            "_model_module_version": "1.2.0",
            "_model_name": "LayoutModel",
            "_view_count": null,
            "_view_module": "@jupyter-widgets/base",
            "_view_module_version": "1.2.0",
            "_view_name": "LayoutView",
            "align_content": null,
            "align_items": null,
            "align_self": null,
            "border": null,
            "bottom": null,
            "display": null,
            "flex": null,
            "flex_flow": null,
            "grid_area": null,
            "grid_auto_columns": null,
            "grid_auto_flow": null,
            "grid_auto_rows": null,
            "grid_column": null,
            "grid_gap": null,
            "grid_row": null,
            "grid_template_areas": null,
            "grid_template_columns": null,
            "grid_template_rows": null,
            "height": null,
            "justify_content": null,
            "justify_items": null,
            "left": null,
            "margin": null,
            "max_height": null,
            "max_width": null,
            "min_height": null,
            "min_width": null,
            "object_fit": null,
            "object_position": null,
            "order": null,
            "overflow": null,
            "overflow_x": null,
            "overflow_y": null,
            "padding": null,
            "right": null,
            "top": null,
            "visibility": null,
            "width": null
          }
        },
        "1a85c8317571453f9776fa77996e2669": {
          "model_module": "@jupyter-widgets/controls",
          "model_name": "ProgressStyleModel",
          "model_module_version": "1.5.0",
          "state": {
            "_model_module": "@jupyter-widgets/controls",
            "_model_module_version": "1.5.0",
            "_model_name": "ProgressStyleModel",
            "_view_count": null,
            "_view_module": "@jupyter-widgets/base",
            "_view_module_version": "1.2.0",
            "_view_name": "StyleView",
            "bar_color": null,
            "description_width": ""
          }
        },
        "be4f705c9a2b4de09f78d2f9e574f27d": {
          "model_module": "@jupyter-widgets/base",
          "model_name": "LayoutModel",
          "model_module_version": "1.2.0",
          "state": {
            "_model_module": "@jupyter-widgets/base",
            "_model_module_version": "1.2.0",
            "_model_name": "LayoutModel",
            "_view_count": null,
            "_view_module": "@jupyter-widgets/base",
            "_view_module_version": "1.2.0",
            "_view_name": "LayoutView",
            "align_content": null,
            "align_items": null,
            "align_self": null,
            "border": null,
            "bottom": null,
            "display": null,
            "flex": null,
            "flex_flow": null,
            "grid_area": null,
            "grid_auto_columns": null,
            "grid_auto_flow": null,
            "grid_auto_rows": null,
            "grid_column": null,
            "grid_gap": null,
            "grid_row": null,
            "grid_template_areas": null,
            "grid_template_columns": null,
            "grid_template_rows": null,
            "height": null,
            "justify_content": null,
            "justify_items": null,
            "left": null,
            "margin": null,
            "max_height": null,
            "max_width": null,
            "min_height": null,
            "min_width": null,
            "object_fit": null,
            "object_position": null,
            "order": null,
            "overflow": null,
            "overflow_x": null,
            "overflow_y": null,
            "padding": null,
            "right": null,
            "top": null,
            "visibility": null,
            "width": null
          }
        },
        "095346220805492e86410889c8eca5d1": {
          "model_module": "@jupyter-widgets/controls",
          "model_name": "DescriptionStyleModel",
          "model_module_version": "1.5.0",
          "state": {
            "_model_module": "@jupyter-widgets/controls",
            "_model_module_version": "1.5.0",
            "_model_name": "DescriptionStyleModel",
            "_view_count": null,
            "_view_module": "@jupyter-widgets/base",
            "_view_module_version": "1.2.0",
            "_view_name": "StyleView",
            "description_width": ""
          }
        }
      }
    }
  },
  "nbformat": 4,
  "nbformat_minor": 0
}